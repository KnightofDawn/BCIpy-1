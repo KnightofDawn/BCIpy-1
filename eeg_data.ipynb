{
 "metadata": {
  "name": ""
 },
 "nbformat": 3,
 "nbformat_minor": 0,
 "worksheets": [
  {
   "cells": [
    {
     "cell_type": "code",
     "collapsed": false,
     "input": [
      "from eegml import *\n",
      "print_config()\n",
      "\n",
      "try: # Import config params\n",
      "   from dev_settings import *\n",
      "except ImportError:\n",
      "   print \"Please create a dev_settings.py using dev_settings.py.example as an example\""
     ],
     "language": "python",
     "metadata": {},
     "outputs": [
      {
       "output_type": "stream",
       "stream": "stdout",
       "text": [
        "/home/justis/student/csc591/eeg_all\n",
        "preprocess\n"
       ]
      }
     ],
     "prompt_number": 1
    },
    {
     "cell_type": "markdown",
     "metadata": {},
     "source": [
      "### Format task.xls\n",
      "#### Header\n",
      "machine\tsubject\tstart_time\tend_time\tstim\tblock\tpoolmodality\ttext\tdifficult\n",
      "####A typical row in task.xls:\n",
      "['a', 'a', '2010-12-14 17:05:40.883', '2010-12-14 17:05:43.852', 'A tree is a plant. ', 'A tree is a plant.  A tree is the biggest plant that grows.  Most kinds of trees grow from seeds the way most small plants do.  There are many kinds of trees.  Here are a few of them.  How many do you know?  This tree grows in the country.  It might grow in your yard, too.  Do you know what kind it is?  This is an apple tree.  ', '1', '2', '1', '1']\n",
      "\n",
      "### Generate\n",
      "- task_xls_labels.csv"
     ]
    },
    {
     "cell_type": "code",
     "collapsed": false,
     "input": [
      "format_task_xls()"
     ],
     "language": "python",
     "metadata": {},
     "outputs": [],
     "prompt_number": 2
    },
    {
     "cell_type": "markdown",
     "metadata": {},
     "source": [
      "### Generate compreseed file [deprecated]\n",
      "- task_xls_labels_compress.csv"
     ]
    },
    {
     "cell_type": "code",
     "collapsed": false,
     "input": [
      "compress_time_labels(\"./preprocess/task_xls_labels.csv\")"
     ],
     "language": "python",
     "metadata": {},
     "outputs": [],
     "prompt_number": 3
    },
    {
     "cell_type": "markdown",
     "metadata": {},
     "source": [
      "### Find out the Subject IDs and Time of experiment"
     ]
    },
    {
     "cell_type": "code",
     "collapsed": false,
     "input": [
      "from os import listdir\n",
      "from os.path import isfile, join\n",
      "import re\n",
      "\n",
      "onlyfiles = [ f for f in listdir(DATA_URL) if isfile(join(DATA_URL,f)) ]\n",
      "pat = re.compile(\"[0-9]*\\.[0-9]*\\.combined\\.csv\")\n",
      "temp_dat = [f.split('.')[0:2] for f in onlyfiles if pat.match(f)]\n",
      "sub_dict = {i[1]: i[0] for i in temp_dat}"
     ],
     "language": "python",
     "metadata": {},
     "outputs": [],
     "prompt_number": 4
    },
    {
     "cell_type": "markdown",
     "metadata": {},
     "source": [
      "### Label 1Hz data\n",
      "file:\"../data/eeg_sample/20101214163931.a.combined.csv\"\n"
     ]
    },
    {
     "cell_type": "code",
     "collapsed": false,
     "input": [
      "for i in sub_dict:\n",
      "    label_data(DATA_URL + \"/\"+sub_dict[i] + \".\" +i+\".combined.csv\",\n",
      "            SAVE_URL + \"/task_xls_labels.csv\",\n",
      "            SAVE_URL + \"/\"+sub_dict[i] + \".\" +i+\".labelled.csv\",\n",
      "            i, sub_dict[i])"
     ],
     "language": "python",
     "metadata": {},
     "outputs": [],
     "prompt_number": 5
    },
    {
     "cell_type": "markdown",
     "metadata": {},
     "source": [
      "###Plotting 1Hz data"
     ]
    },
    {
     "cell_type": "code",
     "collapsed": false,
     "input": [
      "with open(\"preprocess/combined_label_uncompress.csv\", 'rb') as fi:\n",
      "    fr = csv.reader(fi, delimiter='\\t')\n",
      "    next(fr)\n",
      "    a = list(fr)\n",
      "    \n",
      "    fig, ax = plt.subplots()\n",
      "    x_ax = [int(i[0].split('.')[0]) for i in a]\n",
      "    \n",
      "    sig_q = [int(i[1]) for i in a]\n",
      "    atten = [int(i[2]) for i in a]\n",
      "    medit = [int(i[3]) for i in a]\n",
      "    diffi = [int(i[4])*25 for i in a]\n",
      "    taskid= [int(i[5]) for i in a]\n",
      "    \n",
      "    #print x_ax\n",
      "    #ax.plot(x_ax,sig_q, label='Quality')\n",
      "    ax.plot(x_ax, atten, label='Attention')\n",
      "    ax.plot(x_ax, medit, label='Meditation')\n",
      "    ax.plot(x_ax, diffi, label='Difficulty')\n",
      "    ax.plot(x_ax, taskid, label='taskid')\n",
      "    \n",
      "    ax.grid(True)\n",
      "    fig.tight_layout()\n",
      "    plt.legend(loc='upper left')\n",
      "    plt.show()"
     ],
     "language": "python",
     "metadata": {},
     "outputs": [
      {
       "ename": "IOError",
       "evalue": "[Errno 2] No such file or directory: 'preprocess/combined_label_uncompress.csv'",
       "output_type": "pyerr",
       "traceback": [
        "\u001b[1;31m---------------------------------------------------------------------------\u001b[0m\n\u001b[1;31mIOError\u001b[0m                                   Traceback (most recent call last)",
        "\u001b[1;32m<ipython-input-6-5938304aca06>\u001b[0m in \u001b[0;36m<module>\u001b[1;34m()\u001b[0m\n\u001b[1;32m----> 1\u001b[1;33m \u001b[1;32mwith\u001b[0m \u001b[0mopen\u001b[0m\u001b[1;33m(\u001b[0m\u001b[1;34m\"preprocess/combined_label_uncompress.csv\"\u001b[0m\u001b[1;33m,\u001b[0m \u001b[1;34m'rb'\u001b[0m\u001b[1;33m)\u001b[0m \u001b[1;32mas\u001b[0m \u001b[0mfi\u001b[0m\u001b[1;33m:\u001b[0m\u001b[1;33m\u001b[0m\u001b[0m\n\u001b[0m\u001b[0;32m      2\u001b[0m     \u001b[0mfr\u001b[0m \u001b[1;33m=\u001b[0m \u001b[0mcsv\u001b[0m\u001b[1;33m.\u001b[0m\u001b[0mreader\u001b[0m\u001b[1;33m(\u001b[0m\u001b[0mfi\u001b[0m\u001b[1;33m,\u001b[0m \u001b[0mdelimiter\u001b[0m\u001b[1;33m=\u001b[0m\u001b[1;34m'\\t'\u001b[0m\u001b[1;33m)\u001b[0m\u001b[1;33m\u001b[0m\u001b[0m\n\u001b[0;32m      3\u001b[0m     \u001b[0mnext\u001b[0m\u001b[1;33m(\u001b[0m\u001b[0mfr\u001b[0m\u001b[1;33m)\u001b[0m\u001b[1;33m\u001b[0m\u001b[0m\n\u001b[0;32m      4\u001b[0m     \u001b[0ma\u001b[0m \u001b[1;33m=\u001b[0m \u001b[0mlist\u001b[0m\u001b[1;33m(\u001b[0m\u001b[0mfr\u001b[0m\u001b[1;33m)\u001b[0m\u001b[1;33m\u001b[0m\u001b[0m\n\u001b[0;32m      5\u001b[0m \u001b[1;33m\u001b[0m\u001b[0m\n",
        "\u001b[1;31mIOError\u001b[0m: [Errno 2] No such file or directory: 'preprocess/combined_label_uncompress.csv'"
       ]
      }
     ],
     "prompt_number": 6
    },
    {
     "cell_type": "markdown",
     "metadata": {},
     "source": [
      "## Label 512 Hz data"
     ]
    },
    {
     "cell_type": "code",
     "collapsed": false,
     "input": [
      "# Create raw file with incremental miliseconds\n",
      "with open(\"../data/eeg_sample/20101214163931.a.rawwave.csv\",'rb') as fi,\\\n",
      "open(\"preprocess/raw_incremental.csv\",'w') as fo:\n",
      "    fr = csv.reader(fi, delimiter=',')\n",
      "    fw = csv.writer(fo, delimiter=',')\n",
      "    \n",
      "    fw.writerow(next(fr))#header\n",
      "    \n",
      "    c=0.0\n",
      "    prev_time = '100'#dummy\n",
      "    for row in fr:\n",
      "        if row[0]==prev_time:\n",
      "            c = c + 0.001\n",
      "        else:\n",
      "            c = 0.0\n",
      "            prev_time = row[0]\n",
      "        fw.writerow([row[0] + '.' + str(c).split('.')[1], row[1]])\n"
     ],
     "language": "python",
     "metadata": {},
     "outputs": [
      {
       "ename": "IOError",
       "evalue": "[Errno 2] No such file or directory: '../data/eeg_sample/20101214163931.a.rawwave.csv'",
       "output_type": "pyerr",
       "traceback": [
        "\u001b[1;31m---------------------------------------------------------------------------\u001b[0m\n\u001b[1;31mIOError\u001b[0m                                   Traceback (most recent call last)",
        "\u001b[1;32m<ipython-input-9-0b742a9783ad>\u001b[0m in \u001b[0;36m<module>\u001b[1;34m()\u001b[0m\n\u001b[0;32m      1\u001b[0m \u001b[1;31m# Create raw file with incremental miliseconds\u001b[0m\u001b[1;33m\u001b[0m\u001b[1;33m\u001b[0m\u001b[0m\n\u001b[1;32m----> 2\u001b[1;33m \u001b[1;32mwith\u001b[0m \u001b[0mopen\u001b[0m\u001b[1;33m(\u001b[0m\u001b[1;34m\"../data/eeg_sample/20101214163931.a.rawwave.csv\"\u001b[0m\u001b[1;33m,\u001b[0m\u001b[1;34m'rb'\u001b[0m\u001b[1;33m)\u001b[0m \u001b[1;32mas\u001b[0m \u001b[0mfi\u001b[0m\u001b[1;33m,\u001b[0m\u001b[0mopen\u001b[0m\u001b[1;33m(\u001b[0m\u001b[1;34m\"preprocess/raw_incremental.csv\"\u001b[0m\u001b[1;33m,\u001b[0m\u001b[1;34m'w'\u001b[0m\u001b[1;33m)\u001b[0m \u001b[1;32mas\u001b[0m \u001b[0mfo\u001b[0m\u001b[1;33m:\u001b[0m\u001b[1;33m\u001b[0m\u001b[0m\n\u001b[0m\u001b[0;32m      3\u001b[0m     \u001b[0mfr\u001b[0m \u001b[1;33m=\u001b[0m \u001b[0mcsv\u001b[0m\u001b[1;33m.\u001b[0m\u001b[0mreader\u001b[0m\u001b[1;33m(\u001b[0m\u001b[0mfi\u001b[0m\u001b[1;33m,\u001b[0m \u001b[0mdelimiter\u001b[0m\u001b[1;33m=\u001b[0m\u001b[1;34m','\u001b[0m\u001b[1;33m)\u001b[0m\u001b[1;33m\u001b[0m\u001b[0m\n\u001b[0;32m      4\u001b[0m     \u001b[0mfw\u001b[0m \u001b[1;33m=\u001b[0m \u001b[0mcsv\u001b[0m\u001b[1;33m.\u001b[0m\u001b[0mwriter\u001b[0m\u001b[1;33m(\u001b[0m\u001b[0mfo\u001b[0m\u001b[1;33m,\u001b[0m \u001b[0mdelimiter\u001b[0m\u001b[1;33m=\u001b[0m\u001b[1;34m','\u001b[0m\u001b[1;33m)\u001b[0m\u001b[1;33m\u001b[0m\u001b[0m\n\u001b[0;32m      5\u001b[0m \u001b[1;33m\u001b[0m\u001b[0m\n",
        "\u001b[1;31mIOError\u001b[0m: [Errno 2] No such file or directory: '../data/eeg_sample/20101214163931.a.rawwave.csv'"
       ]
      }
     ],
     "prompt_number": 9
    },
    {
     "cell_type": "code",
     "collapsed": false,
     "input": [
      "def label_data_raw_signal(in_file, compressed_label_file, out_file):\n",
      "    with open(in_file, 'rb') as fi,\\\n",
      "    open(compressed_label_file, 'rb') as fi2,\\\n",
      "    open(out_file, 'w') as fo:\n",
      "        \n",
      "        day = '2010-12-14' #later, parse from file name\n",
      "        fr1 = csv.reader(fi,  delimiter=',') # combined.csv\n",
      "        fr2 = csv.reader(fi2, delimiter='\\t')# labels_compress.csv\n",
      "        fw  = csv.writer(fo,  delimiter='\\t')# combined_label.csv\n",
      "        \n",
      "        #headers\n",
      "        fw.writerow(next(fr1, None) + ['Difficulty', 'TaskId'])\n",
      "        next(fr2, None)\n",
      "        \n",
      "        lab_row = fr2.next()\n",
      "        for row in fr1:\n",
      "            row[0] = datetime.strptime(day+' '+row[0],\\\n",
      "                            '%Y-%m-%d %H:%M:%S.%f').strftime('%s.%f')\n",
      "            if Decimal(row[0]) < Decimal(lab_row[1]): # t < start_time\n",
      "                label = -1\n",
      "                fw.writerow(row + [label, lab_row[0]])\n",
      "                continue\n",
      "                \n",
      "            if Decimal(row[0]) < Decimal(lab_row[2]): # t < end_time\n",
      "                label = lab_row[3]\n",
      "                fw.writerow(row + [label, lab_row[0]])\n",
      "                continue\n",
      "            \n",
      "            while Decimal(row[0] > lab_row[2]): # t > end_time\n",
      "                try:\n",
      "                    lab_row = next(fr2)\n",
      "                    label = lab_row[3]\n",
      "                except: # reached end of file\n",
      "                    label = -1\n",
      "                    break\n",
      "            fw.writerow(row + [label, lab_row[0]])\n",
      "    return\n",
      "\n",
      "label_data_raw_signal(\"preprocess/raw_incremental.csv\",\n",
      "            \"preprocess/task_xls_labels_compress.csv\",\n",
      "            \"preprocess/raw_incremental_label.csv\")"
     ],
     "language": "python",
     "metadata": {},
     "outputs": [
      {
       "ename": "InvalidOperation",
       "evalue": "Invalid literal for Decimal: 'a'",
       "output_type": "pyerr",
       "traceback": [
        "\u001b[1;31m---------------------------------------------------------------------------\u001b[0m\n\u001b[1;31mInvalidOperation\u001b[0m                          Traceback (most recent call last)",
        "\u001b[1;32m<ipython-input-10-7f7bfca304f2>\u001b[0m in \u001b[0;36m<module>\u001b[1;34m()\u001b[0m\n\u001b[0;32m     36\u001b[0m label_data_raw_signal(\"preprocess/raw_incremental.csv\",\n\u001b[0;32m     37\u001b[0m             \u001b[1;34m\"preprocess/task_xls_labels_compress.csv\"\u001b[0m\u001b[1;33m,\u001b[0m\u001b[1;33m\u001b[0m\u001b[0m\n\u001b[1;32m---> 38\u001b[1;33m             \"preprocess/raw_incremental_label.csv\")\n\u001b[0m",
        "\u001b[1;32m<ipython-input-10-7f7bfca304f2>\u001b[0m in \u001b[0;36mlabel_data_raw_signal\u001b[1;34m(in_file, compressed_label_file, out_file)\u001b[0m\n\u001b[0;32m     14\u001b[0m         \u001b[1;32mfor\u001b[0m \u001b[0mrow\u001b[0m \u001b[1;32min\u001b[0m \u001b[0mfr1\u001b[0m\u001b[1;33m:\u001b[0m\u001b[1;33m\u001b[0m\u001b[0m\n\u001b[0;32m     15\u001b[0m             \u001b[0mrow\u001b[0m\u001b[1;33m[\u001b[0m\u001b[1;36m0\u001b[0m\u001b[1;33m]\u001b[0m \u001b[1;33m=\u001b[0m \u001b[0mdatetime\u001b[0m\u001b[1;33m.\u001b[0m\u001b[0mstrptime\u001b[0m\u001b[1;33m(\u001b[0m\u001b[0mday\u001b[0m\u001b[1;33m+\u001b[0m\u001b[1;34m' '\u001b[0m\u001b[1;33m+\u001b[0m\u001b[0mrow\u001b[0m\u001b[1;33m[\u001b[0m\u001b[1;36m0\u001b[0m\u001b[1;33m]\u001b[0m\u001b[1;33m,\u001b[0m                            \u001b[1;34m'%Y-%m-%d %H:%M:%S.%f'\u001b[0m\u001b[1;33m)\u001b[0m\u001b[1;33m.\u001b[0m\u001b[0mstrftime\u001b[0m\u001b[1;33m(\u001b[0m\u001b[1;34m'%s.%f'\u001b[0m\u001b[1;33m)\u001b[0m\u001b[1;33m\u001b[0m\u001b[0m\n\u001b[1;32m---> 16\u001b[1;33m             \u001b[1;32mif\u001b[0m \u001b[0mDecimal\u001b[0m\u001b[1;33m(\u001b[0m\u001b[0mrow\u001b[0m\u001b[1;33m[\u001b[0m\u001b[1;36m0\u001b[0m\u001b[1;33m]\u001b[0m\u001b[1;33m)\u001b[0m \u001b[1;33m<\u001b[0m \u001b[0mDecimal\u001b[0m\u001b[1;33m(\u001b[0m\u001b[0mlab_row\u001b[0m\u001b[1;33m[\u001b[0m\u001b[1;36m1\u001b[0m\u001b[1;33m]\u001b[0m\u001b[1;33m)\u001b[0m\u001b[1;33m:\u001b[0m \u001b[1;31m# t < start_time\u001b[0m\u001b[1;33m\u001b[0m\u001b[0m\n\u001b[0m\u001b[0;32m     17\u001b[0m                 \u001b[0mlabel\u001b[0m \u001b[1;33m=\u001b[0m \u001b[1;33m-\u001b[0m\u001b[1;36m1\u001b[0m\u001b[1;33m\u001b[0m\u001b[0m\n\u001b[0;32m     18\u001b[0m                 \u001b[0mfw\u001b[0m\u001b[1;33m.\u001b[0m\u001b[0mwriterow\u001b[0m\u001b[1;33m(\u001b[0m\u001b[0mrow\u001b[0m \u001b[1;33m+\u001b[0m \u001b[1;33m[\u001b[0m\u001b[0mlabel\u001b[0m\u001b[1;33m,\u001b[0m \u001b[0mlab_row\u001b[0m\u001b[1;33m[\u001b[0m\u001b[1;36m0\u001b[0m\u001b[1;33m]\u001b[0m\u001b[1;33m]\u001b[0m\u001b[1;33m)\u001b[0m\u001b[1;33m\u001b[0m\u001b[0m\n",
        "\u001b[1;32m/usr/lib/python2.7/decimal.pyc\u001b[0m in \u001b[0;36m__new__\u001b[1;34m(cls, value, context)\u001b[0m\n\u001b[0;32m    546\u001b[0m                     \u001b[0mcontext\u001b[0m \u001b[1;33m=\u001b[0m \u001b[0mgetcontext\u001b[0m\u001b[1;33m(\u001b[0m\u001b[1;33m)\u001b[0m\u001b[1;33m\u001b[0m\u001b[0m\n\u001b[0;32m    547\u001b[0m                 return context._raise_error(ConversionSyntax,\n\u001b[1;32m--> 548\u001b[1;33m                                 \"Invalid literal for Decimal: %r\" % value)\n\u001b[0m\u001b[0;32m    549\u001b[0m \u001b[1;33m\u001b[0m\u001b[0m\n\u001b[0;32m    550\u001b[0m             \u001b[1;32mif\u001b[0m \u001b[0mm\u001b[0m\u001b[1;33m.\u001b[0m\u001b[0mgroup\u001b[0m\u001b[1;33m(\u001b[0m\u001b[1;34m'sign'\u001b[0m\u001b[1;33m)\u001b[0m \u001b[1;33m==\u001b[0m \u001b[1;34m\"-\"\u001b[0m\u001b[1;33m:\u001b[0m\u001b[1;33m\u001b[0m\u001b[0m\n",
        "\u001b[1;32m/usr/lib/python2.7/decimal.pyc\u001b[0m in \u001b[0;36m_raise_error\u001b[1;34m(self, condition, explanation, *args)\u001b[0m\n\u001b[0;32m   3864\u001b[0m         \u001b[1;31m# Errors should only be risked on copies of the context\u001b[0m\u001b[1;33m\u001b[0m\u001b[1;33m\u001b[0m\u001b[0m\n\u001b[0;32m   3865\u001b[0m         \u001b[1;31m# self._ignored_flags = []\u001b[0m\u001b[1;33m\u001b[0m\u001b[1;33m\u001b[0m\u001b[0m\n\u001b[1;32m-> 3866\u001b[1;33m         \u001b[1;32mraise\u001b[0m \u001b[0merror\u001b[0m\u001b[1;33m(\u001b[0m\u001b[0mexplanation\u001b[0m\u001b[1;33m)\u001b[0m\u001b[1;33m\u001b[0m\u001b[0m\n\u001b[0m\u001b[0;32m   3867\u001b[0m \u001b[1;33m\u001b[0m\u001b[0m\n\u001b[0;32m   3868\u001b[0m     \u001b[1;32mdef\u001b[0m \u001b[0m_ignore_all_flags\u001b[0m\u001b[1;33m(\u001b[0m\u001b[0mself\u001b[0m\u001b[1;33m)\u001b[0m\u001b[1;33m:\u001b[0m\u001b[1;33m\u001b[0m\u001b[0m\n",
        "\u001b[1;31mInvalidOperation\u001b[0m: Invalid literal for Decimal: 'a'"
       ]
      }
     ],
     "prompt_number": 10
    },
    {
     "cell_type": "markdown",
     "metadata": {},
     "source": [
      "Plot raw data"
     ]
    },
    {
     "cell_type": "code",
     "collapsed": false,
     "input": [
      "with open(\"preprocess/raw_incremental_label.csv\", 'rb') as fi:\n",
      "    fr = csv.reader(fi, delimiter='\\t')\n",
      "    next(fr)\n",
      "    a = list(fr)\n",
      "    \n",
      "    fig, ax = plt.subplots()\n",
      "    x_ax = [int(i[0].split('.')[0]) for i in a]\n",
      "    \n",
      "    diffi = [int(i[2]) for i in a]\n",
      "    \n",
      "    #print x_ax\n",
      "    #ax.plot(x_ax,sig_q, label='Quality')\n",
      "    #ax.plot(x_ax,atten, label='Attention')\n",
      "    #ax.plot(x_ax,medit, label='Meditation')\n",
      "    ax.plot(x_ax,diffi, label='Difficulty')\n",
      "    \n",
      "    ax.grid(True)\n",
      "    fig.tight_layout()\n",
      "    plt.legend(loc='upper left')\n",
      "    plt.show()"
     ],
     "language": "python",
     "metadata": {},
     "outputs": [
      {
       "metadata": {},
       "output_type": "display_data",
       "png": "[encoded data removed]",
       "text": [
        "<matplotlib.figure.Figure at 0xa3c62cc>"
       ]
      }
     ],
     "prompt_number": 11
    }
   ],
   "metadata": {}
  }
 ]
}