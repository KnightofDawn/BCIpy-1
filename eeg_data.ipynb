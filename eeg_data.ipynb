{
 "metadata": {
  "name": "eeg_data"
 },
 "nbformat": 3,
 "nbformat_minor": 0,
 "worksheets": [
  {
   "cells": [
    {
     "cell_type": "code",
     "collapsed": false,
     "input": [
      "import csv\n",
      "import time\n",
      "import re\n",
      "from datetime import datetime\n",
      "from decimal import Decimal"
     ],
     "language": "python",
     "metadata": {},
     "outputs": [],
     "prompt_number": 63
    },
    {
     "cell_type": "markdown",
     "metadata": {},
     "source": [
      "### Format task.xls\n",
      "#### Header\n",
      "machine\tsubject\tstart_time\tend_time\tstim\tblock\tpoolmodality\ttext\tdifficult\n",
      "####A typical row in task.xls:\n",
      "['a', 'a', '2010-12-14 17:05:40.883', '2010-12-14 17:05:43.852', 'A tree is a plant. ', 'A tree is a plant.  A tree is the biggest plant that grows.  Most kinds of trees grow from seeds the way most small plants do.  There are many kinds of trees.  Here are a few of them.  How many do you know?  This tree grows in the country.  It might grow in your yard, too.  Do you know what kind it is?  This is an apple tree.  ', '1', '2', '1', '1']\n",
      "\n",
      "### Generate\n",
      "- task_xls_labels.csv"
     ]
    },
    {
     "cell_type": "code",
     "collapsed": false,
     "input": [
      "def format_time(ti):\n",
      "    \"\"\"\n",
      "    Converts format '2010-12-14 16:56:36.996' to Decimal\n",
      "    \"\"\"\n",
      "    to = datetime.strptime(ti, '%Y-%m-%d %H:%M:%S.%f')\n",
      "    #Decimal not losing precision\n",
      "    to = Decimal(to.strftime('%s.%f'))\n",
      "    return str(to)\n",
      "    \n",
      "    \n",
      "def format_task_xls():\n",
      "    path_task_xls = \"../data/eeg_sample/task.xls\"\n",
      "    path_task_xls_labels = \"./preprocess/task_xls_labels.csv\"\n",
      "    \n",
      "    with open(path_task_xls, 'rb') as fi,\\\n",
      "    open(path_task_xls_labels, 'w') as fo:\n",
      "        fr = csv.reader(fi, delimiter='\\t')\n",
      "        fw = csv.writer(fo, delimiter='\\t')\n",
      "        \n",
      "        h = fr.next()\n",
      "        fw.writerow([h[2], h[3], h[-1]]) #header\n",
      "        for row in fr:\n",
      "            row[2] = format_time(row[2])\n",
      "            row[3] = format_time(row[3])\n",
      "            fw.writerow([row[2], row[3], row[-1]])"
     ],
     "language": "python",
     "metadata": {},
     "outputs": [],
     "prompt_number": 114
    },
    {
     "cell_type": "markdown",
     "metadata": {},
     "source": [
      "### Generate\n",
      "- task_xls_labels_compress.csv"
     ]
    },
    {
     "cell_type": "code",
     "collapsed": false,
     "input": [
      "def compress_time_labels(file_name):\n",
      "    \"\"\"\n",
      "    Combines contiguous time windows\n",
      "    with same difficulty label\n",
      "    \"\"\"\n",
      "    with open(file_name, 'rb') as fi,\\\n",
      "    open(\"./preprocess/task_xls_labels_compress.csv\", 'w') as fo:\n",
      "        fr = csv.reader(fi, delimiter='\\t')\n",
      "        fw = csv.writer(fo, delimiter='\\t')\n",
      "        fw.writerow(fr.next()) #header\n",
      "        \n",
      "        row1 = fr.next()\n",
      "        t_s = row1[0]\n",
      "        t_e = row1[1]\n",
      "        lab = row1[2]\n",
      "        \n",
      "        for row in fr: #row 2 onwards\n",
      "            if row[2] == lab:\n",
      "                t_e = row[1]\n",
      "            else:\n",
      "                fw.writerow([str(t_s), str(t_e), lab])\n",
      "                t_s = row[0]\n",
      "                t_e = row[1]\n",
      "                lab = row[2]\n",
      "        fw.writerow([str(t_s), str(t_e), lab]) #last row\n",
      "                \n",
      "\n",
      "compress_time_labels(\"./preprocess/task_xls_labels.csv\")"
     ],
     "language": "python",
     "metadata": {},
     "outputs": [],
     "prompt_number": 115
    },
    {
     "cell_type": "markdown",
     "metadata": {},
     "source": [
      "### Label 1Hz data\n",
      "file:\"../data/eeg_sample/20101214163931.a.combined.csv\"\n"
     ]
    },
    {
     "cell_type": "code",
     "collapsed": false,
     "input": [
      "with open(\"../data/eeg_sample/20101214163931.a.combined.csv\", 'rb') as fi,\\\n",
      "open(\"preprocess/task_xls_labels.csv\", 'rb') as fi2,\\\n",
      "open(\"preprocess/combined_label.csv\", 'w') as fo:\n",
      "    fr = csv.reader(fi, delimiter=',')\n",
      "    fr2 = csv.reader(fi2, delimiter='\\t')\n",
      "    fw = csv.writer(fo, delimiter='\\t')\n",
      "    \n",
      "    #headers\n",
      "    fw.writerow(next(fr, None) + ['Label'])\n",
      "    next(fr2, None)"
     ],
     "language": "python",
     "metadata": {},
     "outputs": [],
     "prompt_number": 117
    }
   ],
   "metadata": {}
  }
 ]
}