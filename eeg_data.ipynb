{
 "metadata": {
  "name": "eeg_data"
 },
 "nbformat": 3,
 "nbformat_minor": 0,
 "worksheets": [
  {
   "cells": [
    {
     "cell_type": "code",
     "collapsed": false,
     "input": [
      "import csv\n",
      "import time\n",
      "import re\n",
      "from datetime import datetime\n",
      "from decimal import Decimal"
     ],
     "language": "python",
     "metadata": {},
     "outputs": [],
     "prompt_number": 63
    },
    {
     "cell_type": "markdown",
     "metadata": {},
     "source": [
      "####A typical row in task.xls:\n",
      "\n",
      "['a', 'a', '2010-12-14 17:05:40.883', '2010-12-14 17:05:43.852', 'A tree is a plant. ', 'A tree is a plant.  A tree is the biggest plant that grows.  Most kinds of trees grow from seeds the way most small plants do.  There are many kinds of trees.  Here are a few of them.  How many do you know?  This tree grows in the country.  It might grow in your yard, too.  Do you know what kind it is?  This is an apple tree.  ', '1', '2', '1', '1']"
     ]
    },
    {
     "cell_type": "code",
     "collapsed": false,
     "input": [
      "def format_time(ti):\n",
      "    \"\"\"\n",
      "    Converts format '2010-12-14 16:56:36.996' to Decimal\n",
      "    \"\"\"\n",
      "    to = datetime.strptime(ti, '%Y-%m-%d %H:%M:%S.%f')\n",
      "    #Decimal not losing precision\n",
      "    to = Decimal(to.strftime('%s.%f'))\n",
      "    return str(to)\n",
      "    \n",
      "    \n",
      "def format_task_xls():\n",
      "    path_task_xls = \"../data/eeg_sample/task.xls\"\n",
      "    path_task_xls_format = \"./preprocess/task_xls.csv\"\n",
      "    \n",
      "    with open(path_task_xls, 'rb') as fi, open(path_task_xls_format, 'w') as fo:\n",
      "        fr = csv.reader(fi, delimiter='\\t')\n",
      "        fw = csv.writer(fo, delimiter='\\t')\n",
      "        \n",
      "        fw.writerow(fr.next()) #header\n",
      "        \n",
      "        \n",
      "        for row in fr:\n",
      "\n",
      "            row[2] = format_time(row[2])\n",
      "            row[3] = format_time(row[3])\n",
      "format_task_xls()"
     ],
     "language": "python",
     "metadata": {},
     "outputs": [],
     "prompt_number": 76
    }
   ],
   "metadata": {}
  }
 ]
}